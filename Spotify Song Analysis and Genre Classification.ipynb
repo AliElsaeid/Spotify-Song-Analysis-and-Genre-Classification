{
  "nbformat": 4,
  "nbformat_minor": 0,
  "metadata": {
    "colab": {
      "provenance": []
    },
    "kernelspec": {
      "name": "python3",
      "display_name": "Python 3"
    },
    "language_info": {
      "name": "python"
    }
  },
  "cells": [
    {
      "cell_type": "code",
      "execution_count": 1,
      "metadata": {
        "id": "ISU7lQjRW36h"
      },
      "outputs": [],
      "source": [
        "import pandas as pd\n",
        "from sklearn.experimental import enable_iterative_imputer\n",
        "from sklearn.impute import IterativeImputer"
      ]
    },
    {
      "cell_type": "code",
      "source": [
        "spotify_data =pd.read_csv('music_streaming.csv')\n"
      ],
      "metadata": {
        "id": "SG30aPmlb9jL"
      },
      "execution_count": 2,
      "outputs": []
    },
    {
      "cell_type": "code",
      "source": [
        "spotify_data.info()"
      ],
      "metadata": {
        "colab": {
          "base_uri": "https://localhost:8080/"
        },
        "id": "jseobjzFeCZH",
        "outputId": "613e35c2-340d-45c7-a355-610a61bd4c75"
      },
      "execution_count": 3,
      "outputs": [
        {
          "output_type": "stream",
          "name": "stdout",
          "text": [
            "<class 'pandas.core.frame.DataFrame'>\n",
            "RangeIndex: 15517 entries, 0 to 15516\n",
            "Data columns (total 17 columns):\n",
            " #   Column              Non-Null Count  Dtype  \n",
            "---  ------              --------------  -----  \n",
            " 0   Artist Name         15517 non-null  object \n",
            " 1   Track Name          15517 non-null  object \n",
            " 2   Popularity          15123 non-null  float64\n",
            " 3   danceability        15517 non-null  float64\n",
            " 4   energy              15517 non-null  float64\n",
            " 5   key                 13774 non-null  float64\n",
            " 6   loudness            15517 non-null  float64\n",
            " 7   mode                15517 non-null  int64  \n",
            " 8   speechiness         15517 non-null  float64\n",
            " 9   acousticness        15517 non-null  float64\n",
            " 10  instrumentalness    11930 non-null  float64\n",
            " 11  liveness            15517 non-null  float64\n",
            " 12  valence             15517 non-null  float64\n",
            " 13  tempo               15517 non-null  float64\n",
            " 14  duration_in min/ms  15517 non-null  float64\n",
            " 15  time_signature      15517 non-null  int64  \n",
            " 16  Genre               15517 non-null  int64  \n",
            "dtypes: float64(12), int64(3), object(2)\n",
            "memory usage: 2.0+ MB\n"
          ]
        }
      ]
    },
    {
      "cell_type": "code",
      "source": [
        "columns_to_impute = spotify_data.columns.drop(['Artist Name', 'Track Name'])\n",
        "spotify_data_for_imputation = spotify_data[columns_to_impute]\n",
        "\n",
        "# Initialize IterativeImputer\n",
        "imputer = IterativeImputer(random_state=0)\n",
        "\n",
        "# Perform imputation\n",
        "spotify_data_imputed = imputer.fit_transform(spotify_data_for_imputation)\n",
        "\n",
        "# Convert the result back to DataFrame\n",
        "spotify_data_imputed = pd.DataFrame(spotify_data_imputed, columns=columns_to_impute)\n",
        "\n",
        "# Concatenate 'Artist Name' and 'Track Name' back to the DataFrame\n",
        "spotify_data_imputed[['Artist Name', 'Track Name']] = spotify_data[['Artist Name', 'Track Name']]\n"
      ],
      "metadata": {
        "id": "nUvPsyuXlPlS"
      },
      "execution_count": 4,
      "outputs": []
    },
    {
      "cell_type": "code",
      "source": [
        "spotify_data_imputed.isnull().sum()"
      ],
      "metadata": {
        "colab": {
          "base_uri": "https://localhost:8080/"
        },
        "id": "xV6oUp6-mP46",
        "outputId": "e6553af2-7038-4050-ea1b-9a05bdbf4bee"
      },
      "execution_count": 5,
      "outputs": [
        {
          "output_type": "execute_result",
          "data": {
            "text/plain": [
              "Popularity            0\n",
              "danceability          0\n",
              "energy                0\n",
              "key                   0\n",
              "loudness              0\n",
              "mode                  0\n",
              "speechiness           0\n",
              "acousticness          0\n",
              "instrumentalness      0\n",
              "liveness              0\n",
              "valence               0\n",
              "tempo                 0\n",
              "duration_in min/ms    0\n",
              "time_signature        0\n",
              "Genre                 0\n",
              "Artist Name           0\n",
              "Track Name            0\n",
              "dtype: int64"
            ]
          },
          "metadata": {},
          "execution_count": 5
        }
      ]
    },
    {
      "cell_type": "code",
      "source": [
        "# Handling Duplicates\n",
        "spotify_data_imputed.drop_duplicates(inplace=True)\n"
      ],
      "metadata": {
        "id": "5oM9K0o9d7uE"
      },
      "execution_count": 6,
      "outputs": []
    },
    {
      "cell_type": "code",
      "source": [
        "spotify_data_imputed.to_csv('cleaned_spotify_dataset.csv', index=False)\n"
      ],
      "metadata": {
        "id": "Ntlw7hlxqQVn"
      },
      "execution_count": 7,
      "outputs": []
    },
    {
      "cell_type": "code",
      "source": [
        "!pip install pyspark"
      ],
      "metadata": {
        "colab": {
          "base_uri": "https://localhost:8080/"
        },
        "id": "v2cLcahtqekp",
        "outputId": "26ef49da-ea8b-4af8-a4d7-e83da0801e22"
      },
      "execution_count": 8,
      "outputs": [
        {
          "output_type": "stream",
          "name": "stdout",
          "text": [
            "Collecting pyspark\n",
            "  Downloading pyspark-3.5.1.tar.gz (317.0 MB)\n",
            "\u001b[2K     \u001b[90m━━━━━━━━━━━━━━━━━━━━━━━━━━━━━━━━━━━━━━━━\u001b[0m \u001b[32m317.0/317.0 MB\u001b[0m \u001b[31m4.3 MB/s\u001b[0m eta \u001b[36m0:00:00\u001b[0m\n",
            "\u001b[?25h  Preparing metadata (setup.py) ... \u001b[?25l\u001b[?25hdone\n",
            "Requirement already satisfied: py4j==0.10.9.7 in /usr/local/lib/python3.10/dist-packages (from pyspark) (0.10.9.7)\n",
            "Building wheels for collected packages: pyspark\n",
            "  Building wheel for pyspark (setup.py) ... \u001b[?25l\u001b[?25hdone\n",
            "  Created wheel for pyspark: filename=pyspark-3.5.1-py2.py3-none-any.whl size=317488491 sha256=52ae3b9d5ab23c1e46867f3413ca2e7462eb22a5c2a1ff08f0ac583883d71ece\n",
            "  Stored in directory: /root/.cache/pip/wheels/80/1d/60/2c256ed38dddce2fdd93be545214a63e02fbd8d74fb0b7f3a6\n",
            "Successfully built pyspark\n",
            "Installing collected packages: pyspark\n",
            "Successfully installed pyspark-3.5.1\n"
          ]
        }
      ]
    },
    {
      "cell_type": "code",
      "source": [
        "from pyspark.sql import SparkSession\n",
        "spark = SparkSession.builder \\\n",
        "    .appName(\"GenrePopularityAnalysis\") \\\n",
        "    .getOrCreate()\n",
        "\n",
        "# Load the dataset into a Spark DataFrame\n",
        "spotify_imputed_df = spark.read.csv(\"cleaned_spotify_dataset.csv\", header=True, inferSchema=True)\n",
        "\n",
        "# Register the DataFrame as a temporary view\n",
        "spotify_imputed_df.createOrReplaceTempView(\"spotify_imputed\")\n"
      ],
      "metadata": {
        "id": "FVs405hVmcac"
      },
      "execution_count": 9,
      "outputs": []
    },
    {
      "cell_type": "code",
      "source": [
        "# Query to find the genre with the highest average popularity\n",
        "highest_avg_popularity_genre = spark.sql(\"\"\"\n",
        "    SELECT Genre, AVG(Popularity) AS AvgPopularity\n",
        "    FROM spotify_imputed\n",
        "    GROUP BY Genre\n",
        "    ORDER BY AvgPopularity DESC\n",
        "    LIMIT 1\n",
        "\"\"\")\n",
        "\n",
        "# Show the result\n",
        "highest_avg_popularity_genre.show()"
      ],
      "metadata": {
        "colab": {
          "base_uri": "https://localhost:8080/"
        },
        "id": "qdarpEAjrCg-",
        "outputId": "acdbd5b2-53ea-4bce-e858-3b651a6b5467"
      },
      "execution_count": 10,
      "outputs": [
        {
          "output_type": "stream",
          "name": "stdout",
          "text": [
            "+-----+------------------+\n",
            "|Genre|     AvgPopularity|\n",
            "+-----+------------------+\n",
            "|  4.0|56.727300938594105|\n",
            "+-----+------------------+\n",
            "\n"
          ]
        }
      ]
    },
    {
      "cell_type": "code",
      "source": [
        "artist_song_count = spark.sql(\"\"\"\n",
        "    SELECT `Artist Name`, COUNT(*) AS SongCount\n",
        "    FROM spotify_imputed\n",
        "    WHERE `duration_in min/ms` > 5\n",
        "    GROUP BY `Artist Name`\n",
        "    ORDER BY SongCount DESC\n",
        "\"\"\")\n",
        "\n",
        "# Show the result\n",
        "artist_song_count.show()"
      ],
      "metadata": {
        "id": "2xBZamYyri5p",
        "colab": {
          "base_uri": "https://localhost:8080/"
        },
        "outputId": "e5bfe190-5e71-4f07-a8df-ab745fbe32e9"
      },
      "execution_count": 11,
      "outputs": [
        {
          "output_type": "stream",
          "name": "stdout",
          "text": [
            "+--------------------+---------+\n",
            "|         Artist Name|SongCount|\n",
            "+--------------------+---------+\n",
            "|  The Rolling Stones|       32|\n",
            "|                  U2|       27|\n",
            "|           Metallica|       27|\n",
            "|             Nirvana|       22|\n",
            "|      The Black Keys|       22|\n",
            "|               AC/DC|       22|\n",
            "|        Led Zeppelin|       21|\n",
            "|            Coldplay|       20|\n",
            "|The Smashing Pump...|       18|\n",
            "|       Fleetwood Mac|       18|\n",
            "|           Pearl Jam|       18|\n",
            "|         The Killers|       17|\n",
            "|           Aerosmith|       17|\n",
            "|         Arcade Fire|       16|\n",
            "|            Deftones|       16|\n",
            "|           The Doors|       16|\n",
            "|Creedence Clearwa...|       16|\n",
            "|            The Cure|       15|\n",
            "|           Van Halen|       15|\n",
            "|      Arctic Monkeys|       15|\n",
            "+--------------------+---------+\n",
            "only showing top 20 rows\n",
            "\n"
          ]
        }
      ]
    },
    {
      "cell_type": "code",
      "source": [
        "genre_song_count = spark.sql(\"\"\"\n",
        "    SELECT Genre, COUNT(*) AS SongCount\n",
        "    FROM spotify_imputed\n",
        "    GROUP BY Genre\n",
        "    ORDER BY SongCount DESC\n",
        "\"\"\")\n",
        "\n",
        "# Show the result\n",
        "genre_song_count.show()"
      ],
      "metadata": {
        "colab": {
          "base_uri": "https://localhost:8080/"
        },
        "id": "K25NGCo0sSA6",
        "outputId": "3ef3e4dc-8a71-4978-824f-4f8242be55e1"
      },
      "execution_count": 12,
      "outputs": [
        {
          "output_type": "stream",
          "name": "stdout",
          "text": [
            "+-----+---------+\n",
            "|Genre|SongCount|\n",
            "+-----+---------+\n",
            "| 10.0|     4264|\n",
            "|  6.0|     2263|\n",
            "|  9.0|     1828|\n",
            "|  8.0|     1704|\n",
            "|  1.0|     1268|\n",
            "|  5.0|     1210|\n",
            "|  2.0|     1182|\n",
            "|  0.0|      586|\n",
            "|  7.0|      465|\n",
            "|  4.0|      376|\n",
            "|  3.0|      371|\n",
            "+-----+---------+\n",
            "\n"
          ]
        }
      ]
    },
    {
      "cell_type": "code",
      "source": [
        "top_artists = spark.sql(\"\"\"\n",
        "    SELECT `Artist Name`, AVG(Popularity) AS AvgPopularity\n",
        "    FROM spotify_imputed\n",
        "    GROUP BY `Artist Name`\n",
        "    ORDER BY AvgPopularity DESC\n",
        "    LIMIT 10\n",
        "\"\"\")\n",
        "\n",
        "# Show the result\n",
        "top_artists.show()"
      ],
      "metadata": {
        "colab": {
          "base_uri": "https://localhost:8080/"
        },
        "id": "SamY0yOHsaWe",
        "outputId": "fd975f1c-9a36-43e3-f081-5aca5d3365f2"
      },
      "execution_count": 13,
      "outputs": [
        {
          "output_type": "stream",
          "name": "stdout",
          "text": [
            "+--------------------+-------------+\n",
            "|         Artist Name|AvgPopularity|\n",
            "+--------------------+-------------+\n",
            "|            Måneskin|        100.0|\n",
            "|The Kid LAROI, Ju...|         97.0|\n",
            "|       Doja Cat, SZA|         95.0|\n",
            "|     Los Legendarios|         95.0|\n",
            "|Justin Bieber, Da...|         95.0|\n",
            "|The Weeknd, Arian...|         94.0|\n",
            "|          Nio Garcia|         93.0|\n",
            "|Riton, Nightcrawl...|         92.0|\n",
            "|                 ATB|         91.0|\n",
            "|          Tion Wayne|         90.0|\n",
            "+--------------------+-------------+\n",
            "\n"
          ]
        }
      ]
    },
    {
      "cell_type": "code",
      "source": [
        "party_songs_recommendation = spark.sql(\"\"\"\n",
        "    SELECT `Artist Name`, `Track Name`, energy, danceability, valence\n",
        "    FROM spotify_imputed\n",
        "    WHERE energy >= 0.8 AND danceability >= 0.8 AND valence >= 0.8\n",
        "    ORDER BY rand()\n",
        "    LIMIT 5\n",
        "\"\"\")\n",
        "\n",
        "party_songs_recommendation.show()"
      ],
      "metadata": {
        "colab": {
          "base_uri": "https://localhost:8080/"
        },
        "id": "6B335Y3Osz2Y",
        "outputId": "9bcbd4d0-83ae-444d-b3d0-b56ecaa11487"
      },
      "execution_count": 14,
      "outputs": [
        {
          "output_type": "stream",
          "name": "stdout",
          "text": [
            "+--------------------+--------------------+------+------------+-------+\n",
            "|         Artist Name|          Track Name|energy|danceability|valence|\n",
            "+--------------------+--------------------+------+------------+-------+\n",
            "|Interplanetary Cr...|       Supreme Level| 0.846|       0.824|  0.887|\n",
            "|               Cameo|             Word Up|  0.84|       0.878|  0.882|\n",
            "|               Riton|Friday (feat. Muf...| 0.862|       0.824|  0.801|\n",
            "|        David Banner|         Like A Pimp| 0.846|       0.844|   0.91|\n",
            "|  Traveling Wilburys|Tweeter And The M...| 0.861|       0.803|  0.899|\n",
            "+--------------------+--------------------+------+------------+-------+\n",
            "\n"
          ]
        }
      ]
    },
    {
      "cell_type": "code",
      "source": [
        "from pyspark.sql.functions import col, avg, count, desc\n"
      ],
      "metadata": {
        "id": "4JRJ2OsqtlMy"
      },
      "execution_count": 15,
      "outputs": []
    },
    {
      "cell_type": "code",
      "source": [
        "# a) Which genre has the highest average popularity?\n",
        "highest_avg_popularity_genre = spotify_imputed_df.groupBy(\"Genre\").agg(avg(\"Popularity\").alias(\"AvgPopularity\")) \\\n",
        "    .orderBy(desc(\"AvgPopularity\")).limit(1)\n",
        "highest_avg_popularity_genre.show()"
      ],
      "metadata": {
        "colab": {
          "base_uri": "https://localhost:8080/"
        },
        "id": "PZZLQYl7tsgA",
        "outputId": "58d85f28-c8a9-4647-c899-adacadc6eb13"
      },
      "execution_count": 16,
      "outputs": [
        {
          "output_type": "stream",
          "name": "stdout",
          "text": [
            "+-----+------------------+\n",
            "|Genre|     AvgPopularity|\n",
            "+-----+------------------+\n",
            "|  4.0|56.727300938594105|\n",
            "+-----+------------------+\n",
            "\n"
          ]
        }
      ]
    },
    {
      "cell_type": "code",
      "source": [
        "# b) Display which artists have recorded the most number of songs with a duration of more than 5 minutes\n",
        "most_songs_duration_gt_5 = spotify_imputed_df.filter(col(\"duration_in min/ms\") > 5).groupBy(\"Artist Name\").agg(count(\"*\").alias(\"SongCount\")).orderBy(desc(\"SongCount\")).limit(20)\n",
        "most_songs_duration_gt_5.show()"
      ],
      "metadata": {
        "colab": {
          "base_uri": "https://localhost:8080/"
        },
        "id": "WJEwBzv4tuRa",
        "outputId": "5601fc62-fe50-4799-bb9a-9013bb99f81d"
      },
      "execution_count": 17,
      "outputs": [
        {
          "output_type": "stream",
          "name": "stdout",
          "text": [
            "+--------------------+---------+\n",
            "|         Artist Name|SongCount|\n",
            "+--------------------+---------+\n",
            "|  The Rolling Stones|       32|\n",
            "|                  U2|       27|\n",
            "|           Metallica|       27|\n",
            "|      The Black Keys|       22|\n",
            "|             Nirvana|       22|\n",
            "|               AC/DC|       22|\n",
            "|        Led Zeppelin|       21|\n",
            "|            Coldplay|       20|\n",
            "|The Smashing Pump...|       18|\n",
            "|       Fleetwood Mac|       18|\n",
            "|           Pearl Jam|       18|\n",
            "|         The Killers|       17|\n",
            "|           Aerosmith|       17|\n",
            "|         Arcade Fire|       16|\n",
            "|            Deftones|       16|\n",
            "|           The Doors|       16|\n",
            "|Creedence Clearwa...|       16|\n",
            "|            The Cure|       15|\n",
            "|           Van Halen|       15|\n",
            "|                Beck|       15|\n",
            "+--------------------+---------+\n",
            "\n"
          ]
        }
      ]
    },
    {
      "cell_type": "code",
      "source": [
        "songs_in_genre=spotify_imputed_df.groupBy(\"Genre\").agg(count(\"*\").alias(\"SongCount\")).orderBy(\"SongCount\", ascending=False)\n",
        "songs_in_genre.show()"
      ],
      "metadata": {
        "colab": {
          "base_uri": "https://localhost:8080/"
        },
        "id": "D12AeN-Gt091",
        "outputId": "253005b3-307b-4626-d825-f19d5469d30c"
      },
      "execution_count": 18,
      "outputs": [
        {
          "output_type": "stream",
          "name": "stdout",
          "text": [
            "+-----+---------+\n",
            "|Genre|SongCount|\n",
            "+-----+---------+\n",
            "| 10.0|     4264|\n",
            "|  6.0|     2263|\n",
            "|  9.0|     1828|\n",
            "|  8.0|     1704|\n",
            "|  1.0|     1268|\n",
            "|  5.0|     1210|\n",
            "|  2.0|     1182|\n",
            "|  0.0|      586|\n",
            "|  7.0|      465|\n",
            "|  4.0|      376|\n",
            "|  3.0|      371|\n",
            "+-----+---------+\n",
            "\n"
          ]
        }
      ]
    },
    {
      "cell_type": "code",
      "source": [
        "dominant_artists = spotify_imputed_df.groupBy(\"Artist Name\").agg(avg(\"Popularity\").alias(\"AvgPopularity\")).orderBy(desc(\"AvgPopularity\")).limit(20)\n",
        "dominant_artists.show()\n"
      ],
      "metadata": {
        "colab": {
          "base_uri": "https://localhost:8080/"
        },
        "id": "OtXvHrAuuu3K",
        "outputId": "73349513-a311-4887-d1f4-4dfc6cedbfb7"
      },
      "execution_count": 19,
      "outputs": [
        {
          "output_type": "stream",
          "name": "stdout",
          "text": [
            "+--------------------+-------------+\n",
            "|         Artist Name|AvgPopularity|\n",
            "+--------------------+-------------+\n",
            "|            Måneskin|        100.0|\n",
            "|The Kid LAROI, Ju...|         97.0|\n",
            "|       Doja Cat, SZA|         95.0|\n",
            "|     Los Legendarios|         95.0|\n",
            "|Justin Bieber, Da...|         95.0|\n",
            "|The Weeknd, Arian...|         94.0|\n",
            "|          Nio Garcia|         93.0|\n",
            "|Riton, Nightcrawl...|         92.0|\n",
            "|                 ATB|         91.0|\n",
            "|             Cardi B|         90.0|\n",
            "|          Tion Wayne|         90.0|\n",
            "|    Dua Lipa, DaBaby|         90.0|\n",
            "|          The Weeknd|        89.25|\n",
            "|Galantis, David G...|         89.0|\n",
            "|  Majestic, Boney M.|         89.0|\n",
            "|        Nathan Evans|         89.0|\n",
            "|                 SZA|         89.0|\n",
            "|    Trinidad Cardona|         88.0|\n",
            "|  Travis Scott, HVME|         88.0|\n",
            "|        Bella Poarch|         88.0|\n",
            "+--------------------+-------------+\n",
            "\n"
          ]
        }
      ]
    },
    {
      "cell_type": "code",
      "source": [
        "fun_party_songs = spotify_imputed_df.filter((col(\"energy\") >= 0.8) & (col(\"danceability\") >= 0.7) & (col(\"valence\") >= 0.8)) \\\n",
        "    .orderBy(desc(\"Popularity\")).select(\"Artist Name\", \"Track Name\", \"energy\", \"danceability\", \"valence\").limit(5)\n",
        "fun_party_songs.show()\n"
      ],
      "metadata": {
        "colab": {
          "base_uri": "https://localhost:8080/"
        },
        "id": "B-rQ-d9vwYf2",
        "outputId": "e9dff050-e8d7-49e6-fd70-b9c1af6a97bf"
      },
      "execution_count": 20,
      "outputs": [
        {
          "output_type": "stream",
          "name": "stdout",
          "text": [
            "+--------------------+--------------------+------+------------+-------+\n",
            "|         Artist Name|          Track Name|energy|danceability|valence|\n",
            "+--------------------+--------------------+------+------------+-------+\n",
            "|               Riton|Friday (feat. Muf...| 0.862|       0.824|  0.801|\n",
            "|Riton, Nightcrawl...|Friday (feat. Muf...| 0.862|       0.824|  0.801|\n",
            "|          Joel Corry|Head & Heart (fea...| 0.874|       0.734|  0.905|\n",
            "|    Dua Lipa, DaBaby|Levitating (feat....| 0.825|       0.702|  0.915|\n",
            "|        Daddy Yankee|            PROBLEMA|   0.8|       0.773|  0.842|\n",
            "+--------------------+--------------------+------+------------+-------+\n",
            "\n"
          ]
        }
      ]
    },
    {
      "cell_type": "code",
      "source": [
        "from pyspark.ml.feature import VectorAssembler, StringIndexer\n",
        "from pyspark.ml.classification import RandomForestClassifier, DecisionTreeClassifier, LogisticRegression\n",
        "from pyspark.ml.evaluation import MulticlassClassificationEvaluator\n",
        "from pyspark.ml import Pipeline\n",
        "from pyspark.ml.tuning import ParamGridBuilder, CrossValidator\n"
      ],
      "metadata": {
        "id": "Edeoyo3Bw4vX"
      },
      "execution_count": 28,
      "outputs": []
    },
    {
      "cell_type": "code",
      "source": [
        "spark = SparkSession.builder \\\n",
        "    .appName(\"GenrePopularityAnalysis\") \\\n",
        "    .getOrCreate()\n",
        "\n",
        "# Load the cleaned dataset into a Spark DataFrame\n",
        "spotify_imputed_df = spark.read.csv(\"cleaned_spotify_dataset.csv\", header=True, inferSchema=True)"
      ],
      "metadata": {
        "id": "0GzAuBeG3b6N"
      },
      "execution_count": 32,
      "outputs": []
    },
    {
      "cell_type": "code",
      "source": [
        "feature_columns = ['Popularity', 'danceability', 'energy', 'key', 'loudness', 'mode',\n",
        "                   'speechiness', 'acousticness', 'instrumentalness', 'liveness',\n",
        "                   'valence', 'tempo', 'duration_in min/ms', 'time_signature']\n",
        "assembler = VectorAssembler(inputCols=feature_columns, outputCol=\"features\")\n",
        "spotify_imputed_df = assembler.transform(spotify_imputed_df)"
      ],
      "metadata": {
        "id": "hJZmclgMxJ7o"
      },
      "execution_count": 33,
      "outputs": []
    },
    {
      "cell_type": "code",
      "source": [
        "(training_data, testing_data) = spotify_imputed_df.randomSplit([0.8, 0.2], seed=42)\n"
      ],
      "metadata": {
        "id": "N8TMdy3rxQBS"
      },
      "execution_count": 34,
      "outputs": []
    },
    {
      "cell_type": "code",
      "source": [
        "classifiers = [\n",
        "    RandomForestClassifier(labelCol=\"Genre\", featuresCol=\"features\", seed=42),\n",
        "    DecisionTreeClassifier(labelCol=\"Genre\", featuresCol=\"features\", seed=42),\n",
        "    LogisticRegression(labelCol=\"Genre\", featuresCol=\"features\", maxIter=10)\n",
        "]\n"
      ],
      "metadata": {
        "id": "PejMgciSxTjy"
      },
      "execution_count": 35,
      "outputs": []
    },
    {
      "cell_type": "code",
      "source": [
        "evaluator = MulticlassClassificationEvaluator(labelCol=\"Genre\", metricName=\"accuracy\")\n",
        "best_classifier = None\n",
        "best_accuracy = 0.0\n",
        "\n",
        "for classifier in classifiers:\n",
        "    # Train the classifier\n",
        "    model = classifier.fit(training_data)\n",
        "\n",
        "    # Make predictions on the testing data\n",
        "    predictions = model.transform(testing_data)\n",
        "\n",
        "    # Evaluate the accuracy\n",
        "    accuracy = evaluator.evaluate(predictions)\n",
        "\n",
        "    # Print the accuracy for each classifier\n",
        "    print(\"{} Accuracy: {:.2f}%\".format(classifier.__class__.__name__, accuracy * 100))\n",
        "\n",
        "    # Check if this classifier has the highest accuracy so far\n",
        "    if accuracy > best_accuracy:\n",
        "        best_classifier = classifier\n",
        "        best_accuracy = accuracy"
      ],
      "metadata": {
        "colab": {
          "base_uri": "https://localhost:8080/"
        },
        "id": "wxJtcBwYxWFA",
        "outputId": "e0a6ac55-c0d5-4773-b9b9-b54e603dd15c"
      },
      "execution_count": 39,
      "outputs": [
        {
          "output_type": "stream",
          "name": "stdout",
          "text": [
            "RandomForestClassifier Accuracy: 44.88%\n",
            "DecisionTreeClassifier Accuracy: 44.48%\n",
            "LogisticRegression Accuracy: 48.49%\n"
          ]
        }
      ]
    },
    {
      "cell_type": "code",
      "source": [
        "# Print the best classifier based on accuracy\n",
        "print(\"\\nBest Classifier based on Accuracy: {}\".format(best_classifier.__class__.__name__))"
      ],
      "metadata": {
        "colab": {
          "base_uri": "https://localhost:8080/"
        },
        "id": "tDIPKW-axdMe",
        "outputId": "c4e64c98-66a8-4103-c52f-a229e33da11a"
      },
      "execution_count": 40,
      "outputs": [
        {
          "output_type": "stream",
          "name": "stdout",
          "text": [
            "\n",
            "Best Classifier based on Accuracy: LogisticRegression\n"
          ]
        }
      ]
    },
    {
      "cell_type": "code",
      "source": [
        "spark.stop()\n"
      ],
      "metadata": {
        "id": "nyHuCIgCxk3-"
      },
      "execution_count": 27,
      "outputs": []
    },
    {
      "cell_type": "markdown",
      "source": [],
      "metadata": {
        "id": "mdqErxxIkot4"
      }
    }
  ]
}